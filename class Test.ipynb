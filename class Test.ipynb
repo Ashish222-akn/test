{
 "cells": [
  {
   "cell_type": "code",
   "execution_count": 29,
   "id": "54bb6640-04ba-40d9-b89e-0ab58334109d",
   "metadata": {},
   "outputs": [
    {
     "name": "stdin",
     "output_type": "stream",
     "text": [
      "enter any year 2001\n"
     ]
    },
    {
     "name": "stdout",
     "output_type": "stream",
     "text": [
      "2001 : is not a leap year\n"
     ]
    }
   ],
   "source": [
    "# 1) checking leap year\n",
    "\n",
    "def leap_year_checking(year):\n",
    "    if year%400==0 and year%100==0:\n",
    "        print(f\"{year} : is a leap year\")\n",
    "    elif year%4==0 and year%10!=0:\n",
    "        print(f\"{year}: is a leap year\")\n",
    "    else:\n",
    "        print(f\"{year} : is not a leap year\")\n",
    "\n",
    "try:\n",
    "    if __name__==\"__main__\":\n",
    "        year=int(input(\"enter any year\"))\n",
    "\n",
    "except Exception as e:\n",
    "    print(\"enter numeric value only\")\n",
    "\n",
    "leap_year_checking(year)\n",
    "    "
   ]
  },
  {
   "cell_type": "code",
   "execution_count": null,
   "id": "78a0baf7-5a06-4185-aaff-2c90d5391a42",
   "metadata": {},
   "outputs": [],
   "source": []
  },
  {
   "cell_type": "code",
   "execution_count": 13,
   "id": "c98de79e-0758-4a32-ba27-3a77e5bca889",
   "metadata": {},
   "outputs": [
    {
     "name": "stdout",
     "output_type": "stream",
     "text": [
      "1\n",
      "2\n",
      "3\n",
      "5\n",
      "7\n",
      "11\n",
      "13\n",
      "17\n",
      "19\n",
      "23\n",
      "29\n",
      "31\n",
      "37\n",
      "41\n",
      "43\n",
      "47\n",
      "53\n",
      "59\n",
      "61\n",
      "67\n",
      "71\n",
      "73\n",
      "79\n",
      "83\n",
      "89\n",
      "97\n"
     ]
    }
   ],
   "source": [
    "# 2) printing prime number .\n",
    "\n",
    "def prime_number():\n",
    "    for j in range(1,100):\n",
    "        for i in range(2,int(j**.5)+1):\n",
    "            if j%i==0:\n",
    "                break\n",
    "        else:\n",
    "            print(j)\n",
    "\n",
    "prime_number()"
   ]
  },
  {
   "cell_type": "code",
   "execution_count": null,
   "id": "1edf924f-9040-4801-9786-81b1e961b6ad",
   "metadata": {},
   "outputs": [],
   "source": []
  },
  {
   "cell_type": "code",
   "execution_count": 7,
   "id": "7c708cc5-5211-4a45-aa31-4766daba0aa0",
   "metadata": {},
   "outputs": [],
   "source": [
    "# 3) printing armstrong number from 1-10000\n",
    "\n",
    "\n",
    "    num_str=str(i)\n",
    "    num_length=len(num_str)\n",
    "    sum1=0\n",
    "\n",
    "    temp = i\n",
    "    while temp>1:\n",
    "        digit=temp%10\n",
    "        sum2=sum1+digit**num_length\n",
    "        temp//=10\n",
    "\n",
    "if i ==sum2:\n",
    "    print(i)\n"
   ]
  },
  {
   "cell_type": "code",
   "execution_count": null,
   "id": "5da35a28-af5a-48a8-be88-cb3d198c9b46",
   "metadata": {},
   "outputs": [],
   "source": []
  },
  {
   "cell_type": "code",
   "execution_count": 25,
   "id": "0cb5d7e4-1aa1-4665-89ad-68ea21a35ae3",
   "metadata": {},
   "outputs": [
    {
     "name": "stdin",
     "output_type": "stream",
     "text": [
      "Enter the first number 24\n",
      "Enter the second number 36\n"
     ]
    },
    {
     "name": "stdout",
     "output_type": "stream",
     "text": [
      "HCF of 24 and 36 is :12\n"
     ]
    }
   ],
   "source": [
    "# 4) finding HCF of two number\n",
    "\n",
    "def hcf_finder(num1,num2):\n",
    "    \n",
    "    if num1<num2:\n",
    "        divisor=num1\n",
    "        divident=num2\n",
    "    else:\n",
    "        divisor=num2\n",
    "        divident=num1\n",
    "    remainder=divident%divisor\n",
    "    while remainder!=0:\n",
    "        divisor=remainder\n",
    "        divident=divisor\n",
    "        remainder=divident%divisor\n",
    "        print(f\"HCF of {num1} and {num2} is :{divisor}\")\n",
    "\n",
    "try:\n",
    "    if __name__==\"__main__\":\n",
    "        num1=int(input(\"Enter the first number\"))\n",
    "        num2=int(input(\"Enter the second number\"))\n",
    "\n",
    "except Exception as e:\n",
    "    print(\"enter positive number only\")\n",
    "\n",
    "hcf_finder(num1,num2)"
   ]
  },
  {
   "cell_type": "code",
   "execution_count": 35,
   "id": "4e4b60be-12b9-4c0c-a5d3-ca77be2263c0",
   "metadata": {},
   "outputs": [],
   "source": []
  },
  {
   "cell_type": "code",
   "execution_count": 21,
   "id": "9283f306-35c5-4c83-b735-e008079d1574",
   "metadata": {},
   "outputs": [
    {
     "name": "stdin",
     "output_type": "stream",
     "text": [
      "Enter any Number 3\n"
     ]
    },
    {
     "name": "stdout",
     "output_type": "stream",
     "text": [
      "Factorial of 3 is : 6\n"
     ]
    }
   ],
   "source": [
    "#5) finding factorial of a number\n",
    "\n",
    "def factorial_number(number):\n",
    "    sum1=1\n",
    "    if number<1:\n",
    "        print(\"please enter number greater than one\")\n",
    "    else:\n",
    "        for i in range(number,1,-1):\n",
    "            sum1=sum1*i\n",
    "        print(f\"Factorial of {number} is : {sum1}\")\n",
    "\n",
    "try:\n",
    "    if __name__==\"__main__\":\n",
    "        number=int(input(\"Enter any Number\"))\n",
    "\n",
    "except Exception as e:\n",
    "    print(\"enter positive number\")\n",
    "\n",
    "factorial_number(number)\n",
    "    \n",
    "        "
   ]
  },
  {
   "cell_type": "code",
   "execution_count": null,
   "id": "a4cbf698-2895-457f-9400-15d039bfb4f4",
   "metadata": {},
   "outputs": [],
   "source": []
  }
 ],
 "metadata": {
  "kernelspec": {
   "display_name": "Python 3 (ipykernel)",
   "language": "python",
   "name": "python3"
  },
  "language_info": {
   "codemirror_mode": {
    "name": "ipython",
    "version": 3
   },
   "file_extension": ".py",
   "mimetype": "text/x-python",
   "name": "python",
   "nbconvert_exporter": "python",
   "pygments_lexer": "ipython3",
   "version": "3.12.7"
  }
 },
 "nbformat": 4,
 "nbformat_minor": 5
}
